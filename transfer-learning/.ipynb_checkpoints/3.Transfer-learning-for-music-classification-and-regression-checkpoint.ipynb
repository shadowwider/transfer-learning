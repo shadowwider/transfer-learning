{
 "cells": [
  {
   "cell_type": "markdown",
   "metadata": {},
   "source": [
    "## 音乐迁移学习"
   ]
  },
  {
   "cell_type": "markdown",
   "metadata": {},
   "source": [
    "用于音乐分类的迁移学习，使用一个预先训练好的卷积神经网络抽取特征，级联卷积神经网络的多层(激活)输出，并将这种特征作为通用的音乐表示(representation)。首先训练一个用于音乐打标签的卷积神经网络，然后迁移用到其他音乐相关的分类和回归任务中。\n",
    "![](./diagram.png)\n",
    "```\n",
    "@inproceedings{choi2017transfer,\n",
    "  title={Transfer learning for music classification and regression tasks},\n",
    "  author={Choi, Keunwoo and Fazekas, George and Sandler, Mark and Cho, Kyunghyun},\n",
    "  booktitle={The 18th International Society of Music Information Retrieval (ISMIR) Conference 2017, Suzhou, China},\n",
    "  year={2017},\n",
    "  organization={International Society of Music Information Retrieval}\n",
    "}\n",
    "```"
   ]
  },
  {
   "cell_type": "markdown",
   "metadata": {},
   "source": [
    "可以先下载以下数据集，用于不同任务的数据支撑：<br>\n",
    "[Extended ballroom](http://anasynth.ircam.fr/home/media/ExtendedBallroom/)<br>\n",
    "[Gtzan genre](http://marsyasweb.appspot.com/download/data_sets/)<br>\n",
    "[Gtzan speech/music](http://marsyasweb.appspot.com/download/data_sets/)<br>\n",
    "[emoMusic](http://cvml.unige.ch/databases/emoMusic/)<br>\n",
    "[Jamendo singing voice](http://www.mathieuramona.com/wp/data/jamendo/)<br>\n",
    "[Urbansound8K](https://serv.cusp.nyu.edu/projects/urbansounddataset/urbansound8k.html)"
   ]
  },
  {
   "cell_type": "markdown",
   "metadata": {},
   "source": [
    "通过以下的命令准备旧版本的keras，新版本的代码可能有一些兼容问题\n",
    "```\n",
    "$ pip install theano==0.9\n",
    "$ pip install keras==1.2.2\n",
    "$ git clone https://github.com/keunwoochoi/kapre.git\n",
    "$ cd kapre\n",
    "$ git checkout a3bde3e\n",
    "$ python setup.py install\n",
    "```"
   ]
  }
 ],
 "metadata": {
  "kernelspec": {
   "display_name": "Python 2",
   "language": "python",
   "name": "python2"
  },
  "language_info": {
   "codemirror_mode": {
    "name": "ipython",
    "version": 2
   },
   "file_extension": ".py",
   "mimetype": "text/x-python",
   "name": "python",
   "nbconvert_exporter": "python",
   "pygments_lexer": "ipython2",
   "version": "2.7.12"
  }
 },
 "nbformat": 4,
 "nbformat_minor": 2
}
